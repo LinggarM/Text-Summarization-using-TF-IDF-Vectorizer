{
  "nbformat": 4,
  "nbformat_minor": 0,
  "metadata": {
    "colab": {
      "name": "Text Summarization using TF-IDF Vectorizer.ipynb",
      "provenance": [],
      "authorship_tag": "ABX9TyMyANt5/YDfdSk/KUO+cLuL",
      "include_colab_link": true
    },
    "kernelspec": {
      "name": "python3",
      "display_name": "Python 3"
    },
    "language_info": {
      "name": "python"
    }
  },
  "cells": [
    {
      "cell_type": "markdown",
      "metadata": {
        "id": "view-in-github",
        "colab_type": "text"
      },
      "source": [
        "<a href=\"https://colab.research.google.com/github/LinggarM/Text-Summarization-using-TF-IDF-Vectorizer/blob/main/Text_Summarization_using_TF_IDF_Vectorizer.ipynb\" target=\"_parent\"><img src=\"https://colab.research.google.com/assets/colab-badge.svg\" alt=\"Open In Colab\"/></a>"
      ]
    },
    {
      "cell_type": "markdown",
      "metadata": {
        "id": "Gs_BSVh1Ejf3"
      },
      "source": [
        "# Define Document"
      ]
    },
    {
      "cell_type": "code",
      "metadata": {
        "id": "ND72qJhC_sPw"
      },
      "source": [
        "sentence = \"\"\"\n",
        "Broiler chicken meat is one of the most widely consumed meat types in Indonesia, this high level of consumption makes a lot of consumer demand in the market. However, there was a found seller who sells broiler chicken meat that are rotten. In this study, we develop chicken meat freshness identification using a convolutional neural network algorithm. This study used the image dataset of broiler chicken breasts. There are two categories of chicken meat used in the study, namely, fresh and rotten. The meat images were acquired by using a smartphone camera. For the process of cropping chicken meat images, we use thresholding with the Otsu method and conversion of RGB images to binary images to select the area of RGB images before cropping the images. The chicken meat images were cropped into three sizes and then used as a dataset in the study. The chicken meat image dataset was trained using a simple architecture that was self-made called Ayam6Net, we also used the AlexNet, VGGNet, and GoogLeNet architectures as a comparison. Ayam6Net has the highest accuracy of 92.9%. From the experiment results, we can conclude that using Ayam6Net architecture with dataset 400×400 pixels has a better accuracy result compared with other architectures and other sizes image datasets.\n",
        "\"\"\""
      ],
      "execution_count": 57,
      "outputs": []
    },
    {
      "cell_type": "markdown",
      "metadata": {
        "id": "lIqm2VZDErDa"
      },
      "source": [
        "# Text Preprocessing"
      ]
    },
    {
      "cell_type": "code",
      "metadata": {
        "colab": {
          "base_uri": "https://localhost:8080/"
        },
        "id": "qmYi6iWsABp3",
        "outputId": "67b70160-0abb-45f9-a258-0b558013505e"
      },
      "source": [
        "import nltk\n",
        "from nltk.tokenize import sent_tokenize\n",
        "nltk.download('punkt')\n",
        "sent_token = sent_tokenize(sentence)\n",
        "print(sent_token)"
      ],
      "execution_count": 58,
      "outputs": [
        {
          "output_type": "stream",
          "text": [
            "[nltk_data] Downloading package punkt to /root/nltk_data...\n",
            "[nltk_data]   Package punkt is already up-to-date!\n",
            "['\\nBroiler chicken meat is one of the most widely consumed meat types in Indonesia, this high level of consumption makes a lot of consumer demand in the market.', 'However, there was a found seller who sells broiler chicken meat that are rotten.', 'In this study, we develop chicken meat freshness identification using a convolutional neural network algorithm.', 'This study used the image dataset of broiler chicken breasts.', 'There are two categories of chicken meat used in the study, namely, fresh and rotten.', 'The meat images were acquired by using a smartphone camera.', 'For the process of cropping chicken meat images, we use thresholding with the Otsu method and conversion of RGB images to binary images to select the area of RGB images before cropping the images.', 'The chicken meat images were cropped into three sizes and then used as a dataset in the study.', 'The chicken meat image dataset was trained using a simple architecture that was self-made called Ayam6Net, we also used the AlexNet, VGGNet, and GoogLeNet architectures as a comparison.', 'Ayam6Net has the highest accuracy of 92.9%.', 'From the experiment results, we can conclude that using Ayam6Net architecture with dataset 400×400 pixels has a better accuracy result compared with other architectures and other sizes image datasets.']\n"
          ],
          "name": "stdout"
        }
      ]
    },
    {
      "cell_type": "code",
      "metadata": {
        "id": "qNc5R-t-_NK4"
      },
      "source": [
        "from sklearn.feature_extraction.text import TfidfVectorizer\n",
        "\n",
        "vectorizer = TfidfVectorizer(stop_words='english')\n",
        "features = vectorizer.fit_transform(sent_token) # training vector TF-IDF pada tiap data"
      ],
      "execution_count": 59,
      "outputs": []
    },
    {
      "cell_type": "markdown",
      "metadata": {
        "id": "wxVjYquJExOe"
      },
      "source": [
        "# Calculate Sentence Score"
      ]
    },
    {
      "cell_type": "code",
      "metadata": {
        "colab": {
          "base_uri": "https://localhost:8080/"
        },
        "id": "HL3ERxZjAyzH",
        "outputId": "158d3c86-78b1-4dee-c662-3d12eb6b1a01"
      },
      "source": [
        "sent_index = 0\n",
        "sent_score = []\n",
        "for i in features :\n",
        "  print(\"Sum : \", i.sum())\n",
        "  print(\"Length : \", len(i.data))\n",
        "  score = i.sum()/len(i.data)\n",
        "  print(\"Average : \", score)\n",
        "  print(\"-------------------------\")\n",
        "  sent_index +=1\n",
        "  sent_score.append(score)"
      ],
      "execution_count": 60,
      "outputs": [
        {
          "output_type": "stream",
          "text": [
            "Sum :  3.828958494109393\n",
            "Length :  15\n",
            "Average :  0.25526389960729284\n",
            "-------------------------\n",
            "Sum :  2.3477848785265794\n",
            "Length :  6\n",
            "Average :  0.3912974797544299\n",
            "-------------------------\n",
            "Sum :  3.210868830261712\n",
            "Length :  11\n",
            "Average :  0.29189716638742835\n",
            "-------------------------\n",
            "Sum :  2.5901206458416652\n",
            "Length :  7\n",
            "Average :  0.3700172351202379\n",
            "-------------------------\n",
            "Sum :  2.5418274354606663\n",
            "Length :  7\n",
            "Average :  0.36311820506580944\n",
            "-------------------------\n",
            "Sum :  2.3752922116136648\n",
            "Length :  6\n",
            "Average :  0.3958820352689441\n",
            "-------------------------\n",
            "Sum :  3.1476909497486414\n",
            "Length :  14\n",
            "Average :  0.22483506783918866\n",
            "-------------------------\n",
            "Sum :  2.7465071055608057\n",
            "Length :  8\n",
            "Average :  0.3433133881951007\n",
            "-------------------------\n",
            "Sum :  4.023302608678186\n",
            "Length :  17\n",
            "Average :  0.23666485933401096\n",
            "-------------------------\n",
            "Sum :  1.9865971461507124\n",
            "Length :  4\n",
            "Average :  0.4966492865376781\n",
            "-------------------------\n",
            "Sum :  3.950304024217217\n",
            "Length :  17\n",
            "Average :  0.23237082495395395\n",
            "-------------------------\n"
          ],
          "name": "stdout"
        }
      ]
    },
    {
      "cell_type": "code",
      "metadata": {
        "colab": {
          "base_uri": "https://localhost:8080/"
        },
        "id": "-h0z2_rzC_sa",
        "outputId": "2b85d0cf-0351-42d4-f50e-6fe953fbbee6"
      },
      "source": [
        "len(sent_score)"
      ],
      "execution_count": 61,
      "outputs": [
        {
          "output_type": "execute_result",
          "data": {
            "text/plain": [
              "11"
            ]
          },
          "metadata": {
            "tags": []
          },
          "execution_count": 61
        }
      ]
    },
    {
      "cell_type": "code",
      "metadata": {
        "colab": {
          "base_uri": "https://localhost:8080/"
        },
        "id": "t9ylhRmcDOlZ",
        "outputId": "1a0096cb-8c91-46fb-f8d7-cd6f764ba80b"
      },
      "source": [
        "len(sent_token)"
      ],
      "execution_count": 62,
      "outputs": [
        {
          "output_type": "execute_result",
          "data": {
            "text/plain": [
              "11"
            ]
          },
          "metadata": {
            "tags": []
          },
          "execution_count": 62
        }
      ]
    },
    {
      "cell_type": "markdown",
      "metadata": {
        "id": "gJrbqhspE202"
      },
      "source": [
        "# Define Threshold"
      ]
    },
    {
      "cell_type": "code",
      "metadata": {
        "colab": {
          "base_uri": "https://localhost:8080/"
        },
        "id": "14Pp5nJHDXjw",
        "outputId": "02c39be2-2cd7-4a7c-b328-eadfe85de970"
      },
      "source": [
        "threshold = sum(sent_score)/len(sent_score) # Average of Sentence Scores\n",
        "threshold"
      ],
      "execution_count": 63,
      "outputs": [
        {
          "output_type": "execute_result",
          "data": {
            "text/plain": [
              "0.327391768005825"
            ]
          },
          "metadata": {
            "tags": []
          },
          "execution_count": 63
        }
      ]
    },
    {
      "cell_type": "markdown",
      "metadata": {
        "id": "RHOADEc-E5Q7"
      },
      "source": [
        "# Get Sentences"
      ]
    },
    {
      "cell_type": "code",
      "metadata": {
        "colab": {
          "base_uri": "https://localhost:8080/"
        },
        "id": "o_j86b3WDrqC",
        "outputId": "b1bc5365-4443-4f8e-c3e8-9565a200994b"
      },
      "source": [
        "index = 0\n",
        "final_summ = \"\"\n",
        "for i in sent_score :\n",
        "  if (i > (threshold)) :\n",
        "    final_summ = final_summ + \" \" + sent_token[index]\n",
        "    print(sent_token[index])\n",
        "  index += 1"
      ],
      "execution_count": 64,
      "outputs": [
        {
          "output_type": "stream",
          "text": [
            "However, there was a found seller who sells broiler chicken meat that are rotten.\n",
            "This study used the image dataset of broiler chicken breasts.\n",
            "There are two categories of chicken meat used in the study, namely, fresh and rotten.\n",
            "The meat images were acquired by using a smartphone camera.\n",
            "The chicken meat images were cropped into three sizes and then used as a dataset in the study.\n",
            "Ayam6Net has the highest accuracy of 92.9%.\n"
          ],
          "name": "stdout"
        }
      ]
    },
    {
      "cell_type": "markdown",
      "metadata": {
        "id": "dAevJTiNE8U-"
      },
      "source": [
        "# Final Summarization"
      ]
    },
    {
      "cell_type": "code",
      "metadata": {
        "colab": {
          "base_uri": "https://localhost:8080/",
          "height": 89
        },
        "id": "mLhv5k8FEYcH",
        "outputId": "19665ca0-2c62-4dfe-f7cb-8ed018d84dba"
      },
      "source": [
        "final_summ"
      ],
      "execution_count": 65,
      "outputs": [
        {
          "output_type": "execute_result",
          "data": {
            "application/vnd.google.colaboratory.intrinsic+json": {
              "type": "string"
            },
            "text/plain": [
              "' However, there was a found seller who sells broiler chicken meat that are rotten. This study used the image dataset of broiler chicken breasts. There are two categories of chicken meat used in the study, namely, fresh and rotten. The meat images were acquired by using a smartphone camera. The chicken meat images were cropped into three sizes and then used as a dataset in the study. Ayam6Net has the highest accuracy of 92.9%.'"
            ]
          },
          "metadata": {
            "tags": []
          },
          "execution_count": 65
        }
      ]
    }
  ]
}