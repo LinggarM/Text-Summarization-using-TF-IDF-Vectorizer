{
  "nbformat": 4,
  "nbformat_minor": 0,
  "metadata": {
    "colab": {
      "provenance": [],
      "toc_visible": true
    },
    "kernelspec": {
      "name": "python3",
      "display_name": "Python 3"
    },
    "language_info": {
      "name": "python"
    }
  },
  "cells": [
    {
      "cell_type": "markdown",
      "source": [
        "# Import Dependencies"
      ],
      "metadata": {
        "id": "9OxjvOlTZc8J"
      }
    },
    {
      "cell_type": "code",
      "source": [
        "import nltk\n",
        "from nltk.tokenize import sent_tokenize\n",
        "nltk.download('punkt')\n",
        "from sklearn.feature_extraction.text import TfidfVectorizer"
      ],
      "metadata": {
        "colab": {
          "base_uri": "https://localhost:8080/"
        },
        "id": "cMx5zWpNZMBr",
        "outputId": "fc9bd904-53be-4813-d3b8-8cc543c089ff"
      },
      "execution_count": 4,
      "outputs": [
        {
          "output_type": "stream",
          "name": "stderr",
          "text": [
            "[nltk_data] Downloading package punkt to /root/nltk_data...\n",
            "[nltk_data]   Package punkt is already up-to-date!\n"
          ]
        }
      ]
    },
    {
      "cell_type": "markdown",
      "metadata": {
        "id": "Gs_BSVh1Ejf3"
      },
      "source": [
        "# Define Document"
      ]
    },
    {
      "cell_type": "code",
      "metadata": {
        "id": "ND72qJhC_sPw"
      },
      "source": [
        "sentence = \"\"\"\n",
        "Manchester City makes history by winning Club World Cup\n",
        "\n",
        "Manchester City capped off its incredible year with yet another trophy, dismantling Fluminense 4-0 to win the Club World Cup on Friday.\n",
        "\n",
        "Having already won the Premier League, Champions League, FA Cup and Super Cup, Pep Guardiola’s side now boasts five trophies this calendar year, becoming the first English club to ever hold all those titles simultaneously.\n",
        "\n",
        "The final piece of the jigsaw came on a highly charged night in Saudi Arabia as Manchester City outclassed its Brazilian opponents.\n",
        "\n",
        "“We’ve shown over the past 12 months we are the best team in the world. Our results prove that and the consistency we have managed has been amazing,” club captain Kyle Walker said after the game, per Sky Sports.\n",
        "\n",
        "“To win these five trophies – for me, the five biggest prizes available to us – is incredible. I am so proud to have been a part of this and I can honestly say it’s an honour to play alongside these players. I couldn’t ask for better teammates.”\n",
        "\n",
        "It took just 40 seconds for Manchester City to take the lead.\n",
        "\n",
        "Brazilian left-back Marcelo miscued a pass in the opening exchanges which let Nathan Aké free to shoot from distance. The defender’s effort cannoned back off the post but forward Julián Álvarez was in the right place to turn the rebound into the net with his chest.\n",
        "\n",
        "City continued to look dangerous and doubled its lead before the break after Phil Foden’s attempted cross was deflected into his own net by Fluminense defender Nino.\n",
        "\n",
        "Foden then got on the scoresheet himself in the 72nd minute after a prodding home from close range.\n",
        "\n",
        "The rout was completed in the 88th minute when Álvarez capped off a brilliant performance with a clinical finish into the far corner.\n",
        "\n",
        "City’s defence was largely untested for during the game, underlining the team’s dominance during this unforgettable year.\n",
        "\n",
        "“As a manager it is what I am most proud of; that we are always there. No matter how much we win, no matter what trophies we lift, we are there again to fight for the next one,” City boss Guardiola said after the match, according to Sky Sports.\n",
        "\n",
        "“To win the Treble was truly special, but to win two more trophies and now hold these five major titles shows the unique mentality of this team, of the Club and its fans.\n",
        "\n",
        "“It is something no other English team has ever achieved, and we will always remember this incredible time we spent together.”\n",
        "\n",
        "The game ended in some unsavoury scenes as a scuffle broke out between players on the pitch after the final whistle, but the game will be remembered as yet another successful night for City.\n",
        "\n",
        "The champion heads back to England where it faces a tough title defence in the Premier League.\n",
        "\n",
        "It currently sits fourth in the table and will face Everton in its next fixture on Wednesday.\n",
        "\"\"\""
      ],
      "execution_count": 28,
      "outputs": []
    },
    {
      "cell_type": "markdown",
      "metadata": {
        "id": "lIqm2VZDErDa"
      },
      "source": [
        "# Text Preprocessing"
      ]
    },
    {
      "cell_type": "code",
      "metadata": {
        "colab": {
          "base_uri": "https://localhost:8080/"
        },
        "id": "qmYi6iWsABp3",
        "outputId": "45a0ab4c-66ce-4deb-8953-c5c2ecb19fb5"
      },
      "source": [
        "# Sentence tokenization\n",
        "sent_token = sent_tokenize(sentence)\n",
        "print(sent_token)"
      ],
      "execution_count": 29,
      "outputs": [
        {
          "output_type": "stream",
          "name": "stdout",
          "text": [
            "['\\nManchester City makes history by winning Club World Cup\\n\\nManchester City capped off its incredible year with yet another trophy, dismantling Fluminense 4-0 to win the Club World Cup on Friday.', 'Having already won the Premier League, Champions League, FA Cup and Super Cup, Pep Guardiola’s side now boasts five trophies this calendar year, becoming the first English club to ever hold all those titles simultaneously.', 'The final piece of the jigsaw came on a highly charged night in Saudi Arabia as Manchester City outclassed its Brazilian opponents.', '“We’ve shown over the past 12 months we are the best team in the world.', 'Our results prove that and the consistency we have managed has been amazing,” club captain Kyle Walker said after the game, per Sky Sports.', '“To win these five trophies – for me, the five biggest prizes available to us – is incredible.', 'I am so proud to have been a part of this and I can honestly say it’s an honour to play alongside these players.', 'I couldn’t ask for better teammates.”\\n\\nIt took just 40 seconds for Manchester City to take the lead.', 'Brazilian left-back Marcelo miscued a pass in the opening exchanges which let Nathan Aké free to shoot from distance.', 'The defender’s effort cannoned back off the post but forward Julián Álvarez was in the right place to turn the rebound into the net with his chest.', 'City continued to look dangerous and doubled its lead before the break after Phil Foden’s attempted cross was deflected into his own net by Fluminense defender Nino.', 'Foden then got on the scoresheet himself in the 72nd minute after a prodding home from close range.', 'The rout was completed in the 88th minute when Álvarez capped off a brilliant performance with a clinical finish into the far corner.', 'City’s defence was largely untested for during the game, underlining the team’s dominance during this unforgettable year.', '“As a manager it is what I am most proud of; that we are always there.', 'No matter how much we win, no matter what trophies we lift, we are there again to fight for the next one,” City boss Guardiola said after the match, according to Sky Sports.', '“To win the Treble was truly special, but to win two more trophies and now hold these five major titles shows the unique mentality of this team, of the Club and its fans.', '“It is something no other English team has ever achieved, and we will always remember this incredible time we spent together.”\\n\\nThe game ended in some unsavoury scenes as a scuffle broke out between players on the pitch after the final whistle, but the game will be remembered as yet another successful night for City.', 'The champion heads back to England where it faces a tough title defence in the Premier League.', 'It currently sits fourth in the table and will face Everton in its next fixture on Wednesday.']\n"
          ]
        }
      ]
    },
    {
      "cell_type": "code",
      "metadata": {
        "id": "qNc5R-t-_NK4"
      },
      "source": [
        "# Training TF-IDF Vectorizer on sentences\n",
        "vectorizer = TfidfVectorizer(stop_words='english')\n",
        "features = vectorizer.fit_transform(sent_token)"
      ],
      "execution_count": 30,
      "outputs": []
    },
    {
      "cell_type": "markdown",
      "metadata": {
        "id": "wxVjYquJExOe"
      },
      "source": [
        "# Calculate Sentence Score"
      ]
    },
    {
      "cell_type": "code",
      "metadata": {
        "colab": {
          "base_uri": "https://localhost:8080/"
        },
        "id": "HL3ERxZjAyzH",
        "outputId": "f36254af-6162-4c99-9d0b-ca968f00c4c9"
      },
      "source": [
        "# Variable initialization\n",
        "sent_index = 0\n",
        "sent_scores = []\n",
        "\n",
        "# Calculate sentence TF-IDF score\n",
        "for i in features :\n",
        "  print(f\"- Sentences {sent_index + 1}\")\n",
        "  sent_score = i.sum()\n",
        "  sent_length = len(i.data)\n",
        "  print(\"Sum of sentence TF-IDF score: \", sent_score)\n",
        "  print(\"Length of sentence (number of words): \", sent_length)\n",
        "  avg_score = sent_score/sent_length\n",
        "  print(\"Average TF-IDF score: \", avg_score)\n",
        "  print(\"-------------------------\")\n",
        "  sent_index +=1\n",
        "  sent_scores.append(avg_score)"
      ],
      "execution_count": 35,
      "outputs": [
        {
          "output_type": "stream",
          "name": "stdout",
          "text": [
            "- Sentences 1\n",
            "Sum of sentence TF-IDF score:  3.8372306490586197\n",
            "Length of sentence (number of words):  16\n",
            "Average TF-IDF score:  0.23982691556616373\n",
            "-------------------------\n",
            "- Sentences 2\n",
            "Sum of sentence TF-IDF score:  4.2076776340427875\n",
            "Length of sentence (number of words):  19\n",
            "Average TF-IDF score:  0.22145671758119934\n",
            "-------------------------\n",
            "- Sentences 3\n",
            "Sum of sentence TF-IDF score:  3.71282182532486\n",
            "Length of sentence (number of words):  14\n",
            "Average TF-IDF score:  0.2652015589517757\n",
            "-------------------------\n",
            "- Sentences 4\n",
            "Sum of sentence TF-IDF score:  2.8148451944954482\n",
            "Length of sentence (number of words):  8\n",
            "Average TF-IDF score:  0.35185564931193103\n",
            "-------------------------\n",
            "- Sentences 5\n",
            "Sum of sentence TF-IDF score:  3.588741191885732\n",
            "Length of sentence (number of words):  13\n",
            "Average TF-IDF score:  0.2760570147604409\n",
            "-------------------------\n",
            "- Sentences 6\n",
            "Sum of sentence TF-IDF score:  2.4238363903356595\n",
            "Length of sentence (number of words):  6\n",
            "Average TF-IDF score:  0.4039727317226099\n",
            "-------------------------\n",
            "- Sentences 7\n",
            "Sum of sentence TF-IDF score:  2.6415217316411708\n",
            "Length of sentence (number of words):  7\n",
            "Average TF-IDF score:  0.3773602473773101\n",
            "-------------------------\n",
            "- Sentences 8\n",
            "Sum of sentence TF-IDF score:  3.286103756182871\n",
            "Length of sentence (number of words):  11\n",
            "Average TF-IDF score:  0.29873670510753375\n",
            "-------------------------\n",
            "- Sentences 9\n",
            "Sum of sentence TF-IDF score:  3.6036437352218544\n",
            "Length of sentence (number of words):  13\n",
            "Average TF-IDF score:  0.277203364247835\n",
            "-------------------------\n",
            "- Sentences 10\n",
            "Sum of sentence TF-IDF score:  3.6006043183518166\n",
            "Length of sentence (number of words):  13\n",
            "Average TF-IDF score:  0.27696956295013975\n",
            "-------------------------\n",
            "- Sentences 11\n",
            "Sum of sentence TF-IDF score:  3.9746579096116093\n",
            "Length of sentence (number of words):  16\n",
            "Average TF-IDF score:  0.24841611935072558\n",
            "-------------------------\n",
            "- Sentences 12\n",
            "Sum of sentence TF-IDF score:  2.996000570068532\n",
            "Length of sentence (number of words):  9\n",
            "Average TF-IDF score:  0.3328889522298369\n",
            "-------------------------\n",
            "- Sentences 13\n",
            "Sum of sentence TF-IDF score:  3.459057901163712\n",
            "Length of sentence (number of words):  12\n",
            "Average TF-IDF score:  0.28825482509697603\n",
            "-------------------------\n",
            "- Sentences 14\n",
            "Sum of sentence TF-IDF score:  3.122655397011416\n",
            "Length of sentence (number of words):  10\n",
            "Average TF-IDF score:  0.3122655397011416\n",
            "-------------------------\n",
            "- Sentences 15\n",
            "Sum of sentence TF-IDF score:  1.4112911773469379\n",
            "Length of sentence (number of words):  2\n",
            "Average TF-IDF score:  0.7056455886734689\n",
            "-------------------------\n",
            "- Sentences 16\n",
            "Sum of sentence TF-IDF score:  3.4184223842948485\n",
            "Length of sentence (number of words):  13\n",
            "Average TF-IDF score:  0.26295556802268066\n",
            "-------------------------\n",
            "- Sentences 17\n",
            "Sum of sentence TF-IDF score:  3.680053710032921\n",
            "Length of sentence (number of words):  14\n",
            "Average TF-IDF score:  0.2628609792880658\n",
            "-------------------------\n",
            "- Sentences 18\n",
            "Sum of sentence TF-IDF score:  4.506607593906588\n",
            "Length of sentence (number of words):  21\n",
            "Average TF-IDF score:  0.21460036161459942\n",
            "-------------------------\n",
            "- Sentences 19\n",
            "Sum of sentence TF-IDF score:  2.9947162090960475\n",
            "Length of sentence (number of words):  9\n",
            "Average TF-IDF score:  0.3327462454551164\n",
            "-------------------------\n",
            "- Sentences 20\n",
            "Sum of sentence TF-IDF score:  2.82842712474619\n",
            "Length of sentence (number of words):  8\n",
            "Average TF-IDF score:  0.35355339059327373\n",
            "-------------------------\n"
          ]
        }
      ]
    },
    {
      "cell_type": "code",
      "metadata": {
        "colab": {
          "base_uri": "https://localhost:8080/"
        },
        "id": "-h0z2_rzC_sa",
        "outputId": "1cc00672-f68c-4ee4-c7bb-7e41044bcf7e"
      },
      "source": [
        "len(sent_scores)"
      ],
      "execution_count": 36,
      "outputs": [
        {
          "output_type": "execute_result",
          "data": {
            "text/plain": [
              "20"
            ]
          },
          "metadata": {},
          "execution_count": 36
        }
      ]
    },
    {
      "cell_type": "code",
      "metadata": {
        "colab": {
          "base_uri": "https://localhost:8080/"
        },
        "id": "t9ylhRmcDOlZ",
        "outputId": "f74030d7-6edd-45be-c2de-067eb903bd4c"
      },
      "source": [
        "len(sent_token)"
      ],
      "execution_count": 37,
      "outputs": [
        {
          "output_type": "execute_result",
          "data": {
            "text/plain": [
              "20"
            ]
          },
          "metadata": {},
          "execution_count": 37
        }
      ]
    },
    {
      "cell_type": "markdown",
      "metadata": {
        "id": "gJrbqhspE202"
      },
      "source": [
        "# Define Threshold"
      ]
    },
    {
      "cell_type": "code",
      "metadata": {
        "colab": {
          "base_uri": "https://localhost:8080/"
        },
        "id": "14Pp5nJHDXjw",
        "outputId": "dc0164ed-0eb5-43c2-bb97-e35fff3516a7"
      },
      "source": [
        "threshold = sum(sent_scores)/len(sent_scores) # Average of Sentence Scores\n",
        "threshold"
      ],
      "execution_count": 39,
      "outputs": [
        {
          "output_type": "execute_result",
          "data": {
            "text/plain": [
              "0.31514140188014117"
            ]
          },
          "metadata": {},
          "execution_count": 39
        }
      ]
    },
    {
      "cell_type": "markdown",
      "metadata": {
        "id": "RHOADEc-E5Q7"
      },
      "source": [
        "# Get Sentences"
      ]
    },
    {
      "cell_type": "code",
      "metadata": {
        "colab": {
          "base_uri": "https://localhost:8080/"
        },
        "id": "o_j86b3WDrqC",
        "outputId": "8ec2a0c5-739f-4b3b-e2ab-24d7f5ea5744"
      },
      "source": [
        "# Final summary initialization\n",
        "final_summ = \"\"\n",
        "\n",
        "# Get summary sentences\n",
        "for index, data in enumerate(sent_scores) :\n",
        "  if (data >= (threshold)) :\n",
        "    final_summ = final_summ + \" \" + sent_token[index]\n",
        "    print(\"- \", sent_token[index])"
      ],
      "execution_count": 40,
      "outputs": [
        {
          "output_type": "stream",
          "name": "stdout",
          "text": [
            "-  “We’ve shown over the past 12 months we are the best team in the world.\n",
            "-  “To win these five trophies – for me, the five biggest prizes available to us – is incredible.\n",
            "-  I am so proud to have been a part of this and I can honestly say it’s an honour to play alongside these players.\n",
            "-  Foden then got on the scoresheet himself in the 72nd minute after a prodding home from close range.\n",
            "-  “As a manager it is what I am most proud of; that we are always there.\n",
            "-  The champion heads back to England where it faces a tough title defence in the Premier League.\n",
            "-  It currently sits fourth in the table and will face Everton in its next fixture on Wednesday.\n"
          ]
        }
      ]
    },
    {
      "cell_type": "markdown",
      "metadata": {
        "id": "dAevJTiNE8U-"
      },
      "source": [
        "# Summarization Result"
      ]
    },
    {
      "cell_type": "code",
      "metadata": {
        "colab": {
          "base_uri": "https://localhost:8080/",
          "height": 122
        },
        "id": "mLhv5k8FEYcH",
        "outputId": "b553a978-70e3-41bf-97b7-4cc52d78f223"
      },
      "source": [
        "final_summ"
      ],
      "execution_count": 43,
      "outputs": [
        {
          "output_type": "execute_result",
          "data": {
            "text/plain": [
              "' “We’ve shown over the past 12 months we are the best team in the world. “To win these five trophies – for me, the five biggest prizes available to us – is incredible. I am so proud to have been a part of this and I can honestly say it’s an honour to play alongside these players. Foden then got on the scoresheet himself in the 72nd minute after a prodding home from close range. “As a manager it is what I am most proud of; that we are always there. The champion heads back to England where it faces a tough title defence in the Premier League. It currently sits fourth in the table and will face Everton in its next fixture on Wednesday.'"
            ],
            "application/vnd.google.colaboratory.intrinsic+json": {
              "type": "string"
            }
          },
          "metadata": {},
          "execution_count": 43
        }
      ]
    }
  ]
}